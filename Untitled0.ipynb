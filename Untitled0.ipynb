{
  "nbformat": 4,
  "nbformat_minor": 0,
  "metadata": {
    "colab": {
      "provenance": [],
      "authorship_tag": "ABX9TyOeDt54HHarvkoDeY+lJMn5",
      "include_colab_link": true
    },
    "kernelspec": {
      "name": "python3",
      "display_name": "Python 3"
    },
    "language_info": {
      "name": "python"
    }
  },
  "cells": [
    {
      "cell_type": "markdown",
      "metadata": {
        "id": "view-in-github",
        "colab_type": "text"
      },
      "source": [
        "<a href=\"https://colab.research.google.com/github/hmblackwood/Medical_Abstract_Project/blob/main/Untitled0.ipynb\" target=\"_parent\"><img src=\"https://colab.research.google.com/assets/colab-badge.svg\" alt=\"Open In Colab\"/></a>"
      ]
    },
    {
      "cell_type": "markdown",
      "source": [
        "#🩺 Medical Abstract Project 🩺\n",
        "\n",
        "# Summary:\n",
        "Replicating the deep learning model behind the white paper PubMed 200k RCT: a Dataset for Sequential Sentence Classification in Medical Abstracts.\n",
        "Created a RNN, multi-__ clasifier model with ___.\n",
        "Libraries and Project used: PyTorch, SkimLit\n",
        "\n",
        "##1. Problem\n",
        "Reading through dozens of medical abstracts might not be the best use of a medical professional's time. I will create a model that will summarize the abstract, ___, ___ and ___ to help them skim through large bodies of information.\n",
        "\n",
        "##2. Data\n",
        "The dataset I'll be working with is provide\n",
        "\n",
        "##3. Machine Learning Model\n",
        "I will be replicating the deep learning model behind the paper, PubMed 200k RCT: a Dataset for Sequential Sentence Classification in Medical Abstracts. This paper presented a new dataset called PubMed 200k RCT which consists of ~200,000 labelled Randomized Controlled Trial (RCT) abstracts.\n",
        "https://arxiv.org/abs/1710.06071\n",
        "\n",
        "In this paper, they state that they use the machine learning model described in Neural Networks for Joint Sentence Classification in Medical Paper Abstracts.\n",
        "https://arxiv.org/abs/1612.05251\n",
        "\n",
        "From the white paper:\n",
        "\"The fourth baseline (bi-ANN) is an ANN consisting of three components: a token embedding\n",
        "layer (bi-LSTM), a sentence label prediction layer\n",
        "(bi-LSTM), and a label sequence optimization\n",
        "layer (CRF). The architecture is described in (Dernoncourt et al., 2016) and has been demonstrated\n",
        "to yield state-of-the-art results for sequential sentence classification.\"\n",
        "\n",
        "\n",
        "##4. Evaluation\n",
        "\n",
        "##5. Features"
      ],
      "metadata": {
        "id": "aQbBhSa1uDGn"
      }
    },
    {
      "cell_type": "markdown",
      "source": [
        "I will perform the following steps:\n",
        "1. Download the text dataset (PubMed 200K RCT)\n",
        "2. Code a preprocessing function for my text data.\n",
        "3. Set up multiple modeling experiments with different levels of token embeddings.\n",
        "4. Build a multimodal model to take in different sources of data.\n",
        "5. Find the most wrong prediction examples ---- purpose?\n"
      ],
      "metadata": {
        "id": "_vAUm3MyvE-1"
      }
    },
    {
      "cell_type": "code",
      "execution_count": null,
      "metadata": {
        "id": "UA5SNPzBt_v4"
      },
      "outputs": [],
      "source": []
    }
  ]
}